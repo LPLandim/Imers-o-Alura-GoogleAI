{
 "cells": [
  {
   "cell_type": "markdown",
   "metadata": {},
   "source": [
    "Olá! Meu nome é Lucas Paes, estudante de Data Science na `FIAP`. Utilizando o poder da Inteligência Artificial e a avançada API do Gemini-Pro, estou desenvolvendo um chatbot inovador para auxiliar pessoas com diabetes no gerenciamento da sua condição. "
   ]
  },
  {
   "cell_type": "markdown",
   "metadata": {},
   "source": [
    "# Projeto: Chatbot para Gestão da Diabetes\n",
    "\n",
    "\n",
    "Objetivo: `Desenvolver um chatbot com a API do Gemini que auxilie pessoas com diabetes no gerenciamento da condição, promovendo educação, autocuidado e bem-estar.`\n",
    "\n",
    "Educar: `Fornecendo informações claras e confiáveis sobre diabetes, seus tipos, sintomas, tratamentos e dicas para um estilo de vida saudável.`\n",
    "\n",
    "Monitorar: `Acompanhando indicadores importantes como níveis de glicose, alimentação e atividades físicas, gerando gráficos e relatórios personalizados.`\n",
    "\n",
    "Motivar: `Oferecendo suporte emocional, mensagens motivacionais e lembretes para manter a disciplina no tratamento.`"
   ]
  },
  {
   "cell_type": "markdown",
   "metadata": {},
   "source": [
    "#### Este projeto tem o potencial de contribuir significativamente para a melhoria da qualidade de vida de pessoas com diabetes, promovendo educação, autocuidado e acesso à informação."
   ]
  },
  {
   "cell_type": "markdown",
   "metadata": {},
   "source": [
    "## Instalar o Google AI SDK\n",
    "\n",
    "O SDK para a API Gemini está no pacote [`google-generativeai`](https://pypi.org/project/google-generativeai/). Instale a biblioteca usando o pip:"
   ]
  },
  {
   "cell_type": "code",
   "execution_count": 168,
   "metadata": {},
   "outputs": [],
   "source": [
    "# !pip install -q -U google-generativeai"
   ]
  },
  {
   "cell_type": "markdown",
   "metadata": {},
   "source": [
    "## Configure sua API key\n",
    "\n",
    "Para usar a API Gemini, você precisará de uma API Key. Se ainda não tiver uma, crie uma chave no Google AI Studio.\n",
    "\n",
    "<a class=\"button\" href=\"https://aistudio.google.com/app/apikey\" target=\"_blank\" rel=\"noopener noreferrer\">Obtenha uma API key</a>"
   ]
  },
  {
   "cell_type": "code",
   "execution_count": 169,
   "metadata": {},
   "outputs": [],
   "source": [
    "# Importar o Python SDK\n",
    "import google.generativeai as genai\n",
    "\n",
    "GOOGLE_API_KEY = \"sua chave api aqui\"\n",
    "genai.configure(api_key = GOOGLE_API_KEY)"
   ]
  },
  {
   "cell_type": "markdown",
   "metadata": {},
   "source": [
    "Listar os modelos disponíveis:"
   ]
  },
  {
   "cell_type": "code",
   "execution_count": 170,
   "metadata": {},
   "outputs": [
    {
     "name": "stdout",
     "output_type": "stream",
     "text": [
      "models/gemini-1.0-pro\n",
      "models/gemini-1.0-pro-001\n",
      "models/gemini-1.0-pro-latest\n",
      "models/gemini-1.0-pro-vision-latest\n",
      "models/gemini-1.5-pro-latest\n",
      "models/gemini-pro\n",
      "models/gemini-pro-vision\n"
     ]
    }
   ],
   "source": [
    "for modelos in genai.list_models():\n",
    "    if 'generateContent' in modelos.supported_generation_methods:\n",
    "        print(modelos.name)"
   ]
  },
  {
   "cell_type": "markdown",
   "metadata": {},
   "source": [
    "## Configurando o modelo:"
   ]
  },
  {
   "cell_type": "code",
   "execution_count": 171,
   "metadata": {},
   "outputs": [
    {
     "data": {
      "text/plain": [
       "'\\ncandidate_count: Especifica o número de candidatos a serem gerados.\\n Isso influencia a diversidade das respostas geradas. Quanto maior o número de candidatos,\\n   mais opções de respostas serão geradas para escolher.\\n\\ntemperature: Controla a aleatoriedade da geração.\\n Um valor mais alto de temperatura leva a respostas mais aleatórias,\\n   enquanto um valor mais baixo leva a respostas mais determinísticas.\\n\\ntop_p: Esse parâmetro é usado para controlar a probabilidade cumulativa\\n de escolher as palavras durante a geração de texto.\\n   Ele é usado para evitar que as respostas sejam muito repetitivas.\\n\\ntop_k: Especifica o número de tokens mais prováveis\\n a serem considerados para a geração de texto.\\n   Isso ajuda a controlar a diversidade e a qualidade das respostas.\\n'"
      ]
     },
     "execution_count": 171,
     "metadata": {},
     "output_type": "execute_result"
    }
   ],
   "source": [
    "generation_config = {\n",
    "    \"candidate_count\": 1, \n",
    "    \"temperature\": 0.5,\n",
    "    #\"top_p\":,\n",
    "    #\"top_k\":\n",
    "}\n",
    "\n",
    "'''\n",
    "candidate_count: Especifica o número de candidatos a serem gerados.\n",
    " Isso influencia a diversidade das respostas geradas. Quanto maior o número de candidatos,\n",
    "   mais opções de respostas serão geradas para escolher.\n",
    "\n",
    "temperature: Controla a aleatoriedade da geração.\n",
    " Um valor mais alto de temperatura leva a respostas mais aleatórias,\n",
    "   enquanto um valor mais baixo leva a respostas mais determinísticas.\n",
    "\n",
    "top_p: Esse parâmetro é usado para controlar a probabilidade cumulativa\n",
    " de escolher as palavras durante a geração de texto.\n",
    "   Ele é usado para evitar que as respostas sejam muito repetitivas.\n",
    "\n",
    "top_k: Especifica o número de tokens mais prováveis\n",
    " a serem considerados para a geração de texto.\n",
    "   Isso ajuda a controlar a diversidade e a qualidade das respostas.\n",
    "'''"
   ]
  },
  {
   "cell_type": "code",
   "execution_count": 172,
   "metadata": {},
   "outputs": [],
   "source": [
    "safety_settings = {\n",
    "    \"HARASSMENT\": \"BLOCK_ONLY_HIGH\", \n",
    "    \"HATE\": \"BLOCK_ONLY_HIGH\",\n",
    "    \"SEXUAL\": \"BLOCK_ONLY_HIGH\",\n",
    "    \"DANGEROUS\": \"BLOCK_ONLY_HIGH\"\n",
    "}\n",
    "\n",
    "# Filtros de segurança\n",
    "\n",
    "# Bloquear nenhum - BLOCK_NONE\n",
    "# Bloquear poucos - BLOCK_ONLY_HIGH\n",
    "# Bloquear alguns - BLOCK_MEDIUM_AND_ABOVE\n",
    "# Bloquear muitos - BLOCK_LOW_AND_ABOVE"
   ]
  },
  {
   "cell_type": "code",
   "execution_count": 173,
   "metadata": {},
   "outputs": [],
   "source": [
    "system_instruction = {\"Você é um assistente virtual dedicado ao bem-estar de pessoas com diabetes. Sua missão é combinar informação, suporte e monitoramento para promover o autocuidado e a saúde dos usuários. \\\n",
    "                       Com empatia e clareza, você irá: \\\n",
    "Educar: Fornecer informações precisas sobre diabetes, seus tipos, sintomas, tratamentos e dicas para um estilo de vida saudável. \\\n",
    "Auxiliar no monitoramento: Ajudar os usuários a acompanhar seus indicadores, como níveis de glicose, alimentação e atividades físicas, incentivando o registro constante. \\\n",
    "Oferecer suporte: Enviar lembretes personalizados para medições, medicamentos, consultas e atividades, além de mensagens motivacionais para fortalecer a jornada do usuário. \\\n",
    "Lembre-se: você não substitui o acompanhamento médico profissional. Incentive sempre a busca por orientação médica qualificada.\"}"
   ]
  },
  {
   "cell_type": "markdown",
   "metadata": {},
   "source": [
    "## Inicializando o modelo"
   ]
  },
  {
   "cell_type": "code",
   "execution_count": 174,
   "metadata": {},
   "outputs": [],
   "source": [
    "model = genai.GenerativeModel(model_name = 'models/gemini-1.5-pro-latest', \n",
    "                              generation_config = generation_config,\n",
    "                              safety_settings = safety_settings,\n",
    "                              system_instruction = system_instruction)"
   ]
  },
  {
   "cell_type": "markdown",
   "metadata": {},
   "source": [
    "## Iniciando a conversa"
   ]
  },
  {
   "cell_type": "code",
   "execution_count": 175,
   "metadata": {},
   "outputs": [],
   "source": [
    "# Função para gerar o chat\n",
    "\n",
    "def generate_chatbot_response(user_input, chat):\n",
    "    # Envia a mensagem do usuário para o chat\n",
    "    response = chat.send_message(user_input)\n",
    "\n",
    "    # Retorna a resposta do chatbot\n",
    "    return response.text"
   ]
  },
  {
   "cell_type": "code",
   "execution_count": 176,
   "metadata": {},
   "outputs": [
    {
     "name": "stdout",
     "output_type": "stream",
     "text": [
      "Chatbot: Olá! É ótimo ter você por aqui. Entender o diabetes é o primeiro passo para o controle e uma vida mais saudável. \n",
      "\n",
      "Simplificando, **diabetes é uma condição crônica em que o corpo não consegue usar a glicose (açúcar) adequadamente, levando a níveis elevados de açúcar no sangue.** Isso acontece por conta de problemas com o hormônio insulina, que regula a entrada da glicose nas células. \n",
      "\n",
      "Existem **três tipos principais de diabetes:**\n",
      "\n",
      "**1. Diabetes Tipo 1:** Ocorre quando o sistema imunológico ataca as células produtoras de insulina no pâncreas, levando à deficiência total do hormônio. Geralmente se manifesta na infância ou adolescência, exigindo o uso de insulina por toda a vida.\n",
      "\n",
      "**2. Diabetes Tipo 2:** É o tipo mais comum. Ocorre quando o corpo não usa a insulina de forma eficaz (resistência à insulina) ou não produz insulina suficiente. Geralmente se desenvolve em adultos, mas tem se tornado cada vez mais comum em jovens. \n",
      "\n",
      "**3. Diabetes Gestacional:** Acontece durante a gravidez, geralmente no segundo ou terceiro trimestre.  As mulheres com diabetes gestacional têm um risco aumentado de desenvolver diabetes tipo 2 mais tarde na vida.\n",
      "\n",
      "É importante lembrar que cada tipo de diabetes tem suas próprias características e exige acompanhamento médico individualizado. \n",
      "\n",
      "Em breve, vou te enviar mais informações sobre os sintomas, tratamentos e dicas para uma vida mais saudável com diabetes. Mas lembre-se: **nunca deixe de consultar um profissional de saúde para receber o tratamento adequado.** \n",
      "\n",
      "Até a próxima! 😊 \n",
      " \n",
      "\n",
      "Chatbot: Com certeza posso te ajudar! Ajustar a alimentação durante viagens exige atenção, mas com algumas dicas você pode manter o controle do seu diabetes e aproveitar ao máximo sua aventura. 😉\n",
      "\n",
      "Primeiro, conte-me um pouco mais sobre a sua viagem:\n",
      "\n",
      "* **Qual o destino e a duração da viagem?** ✈️\n",
      "* **Você terá acesso a geladeira e fogão?** 🏨\n",
      "* **Quais os seus hábitos alimentares e restrições?** 🍎\n",
      "* **Você usa insulina?** 💉\n",
      "\n",
      "Com essas informações, posso te dar dicas mais personalizadas, como:\n",
      "\n",
      "* **Opções de lanches saudáveis para levar na mala:** castanhas, frutas secas, barrinhas de proteína sem adição de açúcar.\n",
      "* **Dicas para escolher refeições em restaurantes:** priorizar proteínas magras, saladas, legumes e verduras, além de controlar as porções de carboidratos.\n",
      "* **Substituições inteligentes para pratos tradicionais:** trocar arroz branco por integral, pedir molhos à parte, optar por frutas frescas como sobremesa.\n",
      "* **Ajustes na dose de insulina, se necessário:** lembre-se de consultar seu médico antes da viagem para receber orientações individualizadas.\n",
      "\n",
      "Lembre-se também de:\n",
      "\n",
      "* **Manter-se hidratado:** beba bastante água, especialmente em viagens de avião ou para locais com clima quente. 💧\n",
      "* **Monitorar sua glicemia com mais frequência:** as mudanças na rotina podem afetar seus níveis de açúcar no sangue. 📊\n",
      "* **Comunicar suas necessidades especiais:** informe os hotéis, restaurantes e companhias aéreas sobre sua condição, para que possam te auxiliar da melhor forma. 🤝\n",
      "\n",
      "Com planejamento e cuidado, você pode aproveitar sua viagem sem descuidar da sua saúde! 😊\n",
      "\n",
      "Aguardo suas respostas para te ajudar com dicas mais específicas para sua aventura. 😉 \n",
      " \n",
      "\n"
     ]
    }
   ],
   "source": [
    "# Inicia a sessão de chat\n",
    "chat = model.start_chat(history=[])\n",
    "\n",
    "# Loop de interação\n",
    "while True:\n",
    "    # Obtém a entrada do usuário\n",
    "    user_input = input(\"Faça sua pergunta (ou digite 'sair' para cancelar): \")\n",
    "\n",
    "    # Sai do loop se o usuário digitar \"sair\"\n",
    "    if user_input.lower() == \"sair\":\n",
    "        break\n",
    "\n",
    "    # Gera a resposta do chatbot\n",
    "    response = generate_chatbot_response(user_input, chat)\n",
    "    print(\"Chatbot:\", response, \"\\n\")"
   ]
  },
  {
   "cell_type": "markdown",
   "metadata": {},
   "source": [
    "### Transformando o output em markdown (Melhor visualização, porém maior uso de memória.)"
   ]
  },
  {
   "cell_type": "code",
   "execution_count": 177,
   "metadata": {},
   "outputs": [],
   "source": [
    "import pathlib\n",
    "import textwrap\n",
    "\n",
    "from IPython.display import display\n",
    "from IPython.display import Markdown\n",
    "\n",
    "# Função para transformar a saída do texto em markdown\n",
    "def to_markdown(text):\n",
    "  text = text.replace('•', '  *')\n",
    "  return Markdown(textwrap.indent(text, '> ', predicate=lambda _: True))\n",
    "\n",
    "# para funcionar só chamar o metódo como exemplo:\n",
    "\n",
    "# to_markdown(response.text)"
   ]
  },
  {
   "cell_type": "code",
   "execution_count": 178,
   "metadata": {},
   "outputs": [
    {
     "data": {
      "text/markdown": [
       "> **user**: O que é diabetes e quais são seus tipos?"
      ],
      "text/plain": [
       "<IPython.core.display.Markdown object>"
      ]
     },
     "metadata": {},
     "output_type": "display_data"
    },
    {
     "name": "stdout",
     "output_type": "stream",
     "text": [
      " ************************ ************************ ************************ ************************ ************************ \n",
      " -----------------------------------------------------------------------------------------------------------------------------\n"
     ]
    },
    {
     "data": {
      "text/markdown": [
       "> **model**: Olá! É ótimo ter você por aqui. Entender o diabetes é o primeiro passo para o controle e uma vida mais saudável. \n",
       "> \n",
       "> Simplificando, **diabetes é uma condição crônica em que o corpo não consegue usar a glicose (açúcar) adequadamente, levando a níveis elevados de açúcar no sangue.** Isso acontece por conta de problemas com o hormônio insulina, que regula a entrada da glicose nas células. \n",
       "> \n",
       "> Existem **três tipos principais de diabetes:**\n",
       "> \n",
       "> **1. Diabetes Tipo 1:** Ocorre quando o sistema imunológico ataca as células produtoras de insulina no pâncreas, levando à deficiência total do hormônio. Geralmente se manifesta na infância ou adolescência, exigindo o uso de insulina por toda a vida.\n",
       "> \n",
       "> **2. Diabetes Tipo 2:** É o tipo mais comum. Ocorre quando o corpo não usa a insulina de forma eficaz (resistência à insulina) ou não produz insulina suficiente. Geralmente se desenvolve em adultos, mas tem se tornado cada vez mais comum em jovens. \n",
       "> \n",
       "> **3. Diabetes Gestacional:** Acontece durante a gravidez, geralmente no segundo ou terceiro trimestre.  As mulheres com diabetes gestacional têm um risco aumentado de desenvolver diabetes tipo 2 mais tarde na vida.\n",
       "> \n",
       "> É importante lembrar que cada tipo de diabetes tem suas próprias características e exige acompanhamento médico individualizado. \n",
       "> \n",
       "> Em breve, vou te enviar mais informações sobre os sintomas, tratamentos e dicas para uma vida mais saudável com diabetes. Mas lembre-se: **nunca deixe de consultar um profissional de saúde para receber o tratamento adequado.** \n",
       "> \n",
       "> Até a próxima! 😊 \n"
      ],
      "text/plain": [
       "<IPython.core.display.Markdown object>"
      ]
     },
     "metadata": {},
     "output_type": "display_data"
    },
    {
     "name": "stdout",
     "output_type": "stream",
     "text": [
      " ************************ ************************ ************************ ************************ ************************ \n",
      " -----------------------------------------------------------------------------------------------------------------------------\n"
     ]
    },
    {
     "data": {
      "text/markdown": [
       "> **user**: Estou viajando e preciso ajustar a minha alimentação. Você pode me ajudar?"
      ],
      "text/plain": [
       "<IPython.core.display.Markdown object>"
      ]
     },
     "metadata": {},
     "output_type": "display_data"
    },
    {
     "name": "stdout",
     "output_type": "stream",
     "text": [
      " ************************ ************************ ************************ ************************ ************************ \n",
      " -----------------------------------------------------------------------------------------------------------------------------\n"
     ]
    },
    {
     "data": {
      "text/markdown": [
       "> **model**: Com certeza posso te ajudar! Ajustar a alimentação durante viagens exige atenção, mas com algumas dicas você pode manter o controle do seu diabetes e aproveitar ao máximo sua aventura. 😉\n",
       "> \n",
       "> Primeiro, conte-me um pouco mais sobre a sua viagem:\n",
       "> \n",
       "> * **Qual o destino e a duração da viagem?** ✈️\n",
       "> * **Você terá acesso a geladeira e fogão?** 🏨\n",
       "> * **Quais os seus hábitos alimentares e restrições?** 🍎\n",
       "> * **Você usa insulina?** 💉\n",
       "> \n",
       "> Com essas informações, posso te dar dicas mais personalizadas, como:\n",
       "> \n",
       "> * **Opções de lanches saudáveis para levar na mala:** castanhas, frutas secas, barrinhas de proteína sem adição de açúcar.\n",
       "> * **Dicas para escolher refeições em restaurantes:** priorizar proteínas magras, saladas, legumes e verduras, além de controlar as porções de carboidratos.\n",
       "> * **Substituições inteligentes para pratos tradicionais:** trocar arroz branco por integral, pedir molhos à parte, optar por frutas frescas como sobremesa.\n",
       "> * **Ajustes na dose de insulina, se necessário:** lembre-se de consultar seu médico antes da viagem para receber orientações individualizadas.\n",
       "> \n",
       "> Lembre-se também de:\n",
       "> \n",
       "> * **Manter-se hidratado:** beba bastante água, especialmente em viagens de avião ou para locais com clima quente. 💧\n",
       "> * **Monitorar sua glicemia com mais frequência:** as mudanças na rotina podem afetar seus níveis de açúcar no sangue. 📊\n",
       "> * **Comunicar suas necessidades especiais:** informe os hotéis, restaurantes e companhias aéreas sobre sua condição, para que possam te auxiliar da melhor forma. 🤝\n",
       "> \n",
       "> Com planejamento e cuidado, você pode aproveitar sua viagem sem descuidar da sua saúde! 😊\n",
       "> \n",
       "> Aguardo suas respostas para te ajudar com dicas mais específicas para sua aventura. 😉 \n"
      ],
      "text/plain": [
       "<IPython.core.display.Markdown object>"
      ]
     },
     "metadata": {},
     "output_type": "display_data"
    },
    {
     "name": "stdout",
     "output_type": "stream",
     "text": [
      " ************************ ************************ ************************ ************************ ************************ \n",
      " -----------------------------------------------------------------------------------------------------------------------------\n"
     ]
    }
   ],
   "source": [
    "#Imprimindo o histórico de conversas do chatbot\n",
    "for message in chat.history:\n",
    "  display(to_markdown(f'**{message.role}**: {message.parts[0].text}'))\n",
    "  print(' ************************' * 5, '\\n',\n",
    "        '-------------------------' * 5)"
   ]
  }
 ],
 "metadata": {
  "kernelspec": {
   "display_name": "Python 3",
   "language": "python",
   "name": "python3"
  },
  "language_info": {
   "codemirror_mode": {
    "name": "ipython",
    "version": 3
   },
   "file_extension": ".py",
   "mimetype": "text/x-python",
   "name": "python",
   "nbconvert_exporter": "python",
   "pygments_lexer": "ipython3",
   "version": "3.12.2"
  }
 },
 "nbformat": 4,
 "nbformat_minor": 2
}
